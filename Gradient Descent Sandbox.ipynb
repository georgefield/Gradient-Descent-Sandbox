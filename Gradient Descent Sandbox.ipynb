{
 "cells": [
  {
   "cell_type": "markdown",
   "metadata": {
    "id": "Bwbl0_7_fbv8"
   },
   "source": [
    "# CS416 Optimisation Methods (Coursework assignment 1)"
   ]
  },
  {
   "cell_type": "markdown",
   "metadata": {
    "id": "hdx_bMAnf-RB"
   },
   "source": [
    "# Task-1: Linear Regression\n",
    "\n",
    "**Task 1.1** Provide objective function for linear regression minimising the sum of squared errors.\n",
    "\n",
    "\n",
    "\n",
    "\n"
   ]
  },
  {
   "cell_type": "markdown",
   "metadata": {
    "id": "OL4bsXarhtPr"
   },
   "source": [
    "Let $(x_i,y_i)$ be pairs of points $x_i\\in\\mathbb{R}^d, y_i\\in\\mathbb{R}$. Let $w$ be vector of weights $\\in\\mathbb{R}^d$. Let $b$ be bias $\\in\\mathbb{R}$.\n",
    "\n",
    "Want to find $w, b$ such that we minimise the difference between the predicted value $\\hat{y_i} = w^T x_i + b$ and the actual value $y_i$.\n",
    "\n",
    "Therefore want to minimise the following function:\n",
    "\n",
    "$=\\sum_{i=1}^{n} (\\hat{y_i} - y_i)^2$\n",
    "\n",
    "Which is equivalent to:\n",
    "\n",
    "$=\\sum_{i=1}^{n} (w^T x_i + b - y_i)^2$"
   ]
  },
  {
   "cell_type": "markdown",
   "metadata": {
    "id": "Il1HWrhKhDn-"
   },
   "source": [
    "**Task 1.2** Write a python method “linear_regression_GD” that takes as input an n x d matrix **X** containing the feature vectors for all observations, an n-dimensional vector **y** containing  all the targets and learning rate. The method should implement gradient descent (GD) optimization to find **w** and b that minimize the sum of squared errors between the observed target and the output produced by the model. The method should return **w** and b."
   ]
  },
  {
   "cell_type": "code",
   "execution_count": 12,
   "metadata": {
    "id": "tABV3smPhpjQ"
   },
   "outputs": [],
   "source": [
    "import numpy as np\n",
    "\n",
    "def linear_regression_GD(X, y, alpha):\n",
    "    \n",
    "    n, d = X.shape\n",
    "    \n",
    "    #start from weights and biases initialised to 0\n",
    "    w = np.zeros((1, d))\n",
    "    b = 0\n",
    "    \n",
    "    objectiveHistory = [] #recording of objective function (sum of squared errors, a.k.a. SSE), used to plot graph\n",
    "    \n",
    "    for i in range(1000):\n",
    "        #y_pred = w^Tx + b\n",
    "        y_pred = np.dot(w, X.T) + b\n",
    "        \n",
    "        #dSSE/dw = average of -2 * x_i * (y_i - y_pred) for all points (x_i, y_i)\n",
    "        y_diff = y.T - y_pred; #y_i - y_pred\n",
    "        dw = -2 * (1/n) * np.dot(y_diff, X)\n",
    "\n",
    "        #dSSE/db = average of -2 * (y_i - y_pred) for all points (x_i, y_i)\n",
    "        db= -2 * (1/n) * np.sum(y_diff)\n",
    "                \n",
    "        #update weights and bias using gradient descent learning rate alpha\n",
    "        w -= alpha * dw\n",
    "        b -= alpha * db\n",
    "        \n",
    "        objectiveHistory.append(np.sum(y_diff*y_diff)) #objective function is sum of squared errors, SSE\n",
    "        \n",
    "    #get and add final objective function value to the history\n",
    "    y_pred = np.dot(w, X.T) + b\n",
    "    y_diff = y.T - y_pred;\n",
    "    objectiveHistory.append(np.sum(y_diff*y_diff))\n",
    "\n",
    "    return w, b, objectiveHistory\n",
    "   "
   ]
  },
  {
   "cell_type": "markdown",
   "metadata": {
    "id": "qb7bLDTNhxhM"
   },
   "source": [
    "**Task 1.3** You are provided with four csv files: “X_train.csv”, “y_train.csv”, “X_test.csv”, “y_test.csv”.  Load data from the files as given below. Use your implementation in linear_regression_GD to fit a model using X_train and y_train. Find the [mean squared error](https://scikit-learn.org/stable/modules/generated/sklearn.metrics.mean_squared_error.html) and [spearman correlation](https://docs.scipy.org/doc/scipy/reference/generated/scipy.stats.spearmanr.html) between model estimates and true targets in y_test."
   ]
  },
  {
   "cell_type": "code",
   "execution_count": 13,
   "metadata": {
    "id": "S1g4PtgiihLN"
   },
   "outputs": [
    {
     "name": "stdout",
     "output_type": "stream",
     "text": [
      "Weights: [[ 2.16449358e-02  4.57873586e-02 -2.00975134e-02 -1.23561158e-02\n",
      "   7.14833368e-02  4.30237446e-02  1.18296201e+01  3.93986852e-03\n",
      "   4.49758137e-02  3.98084313e-02  1.10495984e-02  3.33575436e-02\n",
      "   1.07944502e-02  3.29963479e-02  5.32572713e-02 -1.17818057e+01\n",
      "  -1.65259979e+00  1.41442828e-02  6.10920024e+00 -9.16631513e-03\n",
      "   3.29467369e-02  9.15219029e+00 -3.06696455e+00 -1.26828371e+01\n",
      "   2.24754685e-02  4.99613910e-02 -6.64826452e+00 -1.07274274e+00\n",
      "   2.18321049e-02  3.24246137e-02  1.42204449e-02  4.55824455e-02\n",
      "   5.94566424e-02  2.43390259e-03  1.02442762e+00 -1.44513103e+00\n",
      "  -1.93927559e+00 -7.95530867e-05  6.00194602e-02  1.08255366e-02\n",
      "  -2.85459321e+00  7.30339690e+00  3.34134965e-02  8.77510200e-03\n",
      "   9.61606267e+00  1.21573916e-02  1.13649903e-02  4.64089426e-02\n",
      "  -2.56513204e-03  5.09305365e-02]]\n",
      "Maximum Weight: 11.829620067088998\n",
      "Bias: 0.07613440843403002\n",
      "MSE: 1.2707061250564042\n",
      "Spearman Coeff: 0.9998897728787947\n"
     ]
    },
    {
     "data": {
      "image/png": "[encoded data removed]",
      "text/plain": [
       "<Figure size 400x300 with 1 Axes>"
      ]
     },
     "metadata": {},
     "output_type": "display_data"
    }
   ],
   "source": [
    "from numpy import genfromtxt\n",
    "import matplotlib.pyplot as plt\n",
    "import os\n",
    "from scipy.stats import spearmanr #use library to calculate spearman coefficient\n",
    "\n",
    "#get the data directory\n",
    "current_directory = os.getcwd()\n",
    "data_directory = current_directory + '\\\\data\\\\'\n",
    "\n",
    "#get training and test data\n",
    "X_train=genfromtxt(data_directory + 'X_train.csv', delimiter=',')\n",
    "X_test=genfromtxt(data_directory + 'X_test.csv', delimiter=',')\n",
    "y_train=genfromtxt(data_directory + 'y_train.csv', delimiter=',')\n",
    "y_test=genfromtxt(data_directory + 'y_test.csv', delimiter=',')\n",
    "\n",
    "#function for getting MSE (mean squared error = average of SSE) and spearman coefficient.\n",
    "#spearman coefficient measures how well the data is correlated in term of the rank of each point vs its predicted point.\n",
    "def getTestCoeffs(X, y, w, b):  \n",
    "    y_pred = np.dot(w, X.T) + b\n",
    "    y_diff = y.T - y_pred\n",
    "    n = len(y)\n",
    "    MSE = 1/n * np.sum(y_diff * y_diff)\n",
    "    spearman, _ = spearmanr(y, y_pred[0])\n",
    "    return MSE, spearman\n",
    "\n",
    "#plot objective function vs GD iteration\n",
    "def plotObjectiveHistory(objectiveValues):\n",
    "    indices = np.arange(len(objectiveValues))\n",
    "    \n",
    "    plt.figure(figsize=(4, 3))\n",
    "    plt.xlabel('Iteration')\n",
    "    plt.ylabel('Objective Function')\n",
    "    plt.plot(indices, objectiveValues)\n",
    "\n",
    "#any significantly bigger alpha, training diverges\n",
    "w,b,SSEhistory = linear_regression_GD(X_train, y_train, 0.0009)\n",
    "\n",
    "testMSE, testSpearman = getTestCoeffs(X_test, y_test, w, b)\n",
    "print(\"Weights:\", w)\n",
    "print(\"Maximum Weight:\", np.max(w))\n",
    "print(\"Bias:\", b)\n",
    "print(\"MSE:\", testMSE)\n",
    "print(\"Spearman Coeff:\", testSpearman)\n",
    "\n",
    "plotObjectiveHistory(SSEhistory)"
   ]
  },
  {
   "cell_type": "markdown",
   "metadata": {
    "id": "iAZLAU1NpqSU"
   },
   "source": [
    "# Task-2: L2-Regularised Linear Regression\n",
    "\n",
    "**Task 2.1**\n",
    "Add L2 regularisation in the objective function from 1.1. Provide the modified objective function below."
   ]
  },
  {
   "cell_type": "markdown",
   "metadata": {
    "id": "PqZ4QiSzqV9i"
   },
   "source": [
    "A regularisation term keeps the weights of the output low by penalising high values. The L2 regularisation term penalises weights as function of their size squared and a $\\lambda$ constant so the strength of the regularisation can be adjusted.\n",
    "\n",
    "L2 regularisation term: \n",
    "\n",
    "$=\\frac{\\lambda}{2}\\sum_{i=0}^{n}w_i^2$\n",
    "\n",
    "Therefore the objection function is:\n",
    "\n",
    "$=\\sum_{i=1}^{n} (w^T x_i + b - y_i)^2 + \\frac{\\lambda}{2}\\sum_{i=0}^{n}w_i^2$"
   ]
  },
  {
   "cell_type": "markdown",
   "metadata": {
    "id": "fNeGXs_iqbip"
   },
   "source": [
    "**Task 2.2** Based on the above formulation, write a python method “linear_regression_GD_L2” that takes as input an nxd matrix **X** containing the feature vectors for all observations, an n-dimensional vector **y** containing  all the targets, regularization weight lambda and learning rate. The method should implement gradient descent optimization to find w and b that minimize the regularized objective function."
   ]
  },
  {
   "cell_type": "code",
   "execution_count": 15,
   "metadata": {
    "id": "iVLxXifdqzcv"
   },
   "outputs": [],
   "source": [
    "def linear_regression_GD_L2(X, y, alpha, lmbda):\n",
    "    \n",
    "    n, d = X.shape\n",
    "    \n",
    "    #start from weights and biases initialised to 0\n",
    "    w = np.zeros((1, d))\n",
    "    b = 0\n",
    "    \n",
    "    objectiveHistory = [] #recording of objective function stated in markdown above\n",
    "    \n",
    "    for i in range(1000):\n",
    "        #y_pred = w^Tx + b\n",
    "        y_pred = np.dot(w, X.T) + b\n",
    "        \n",
    "        #can find dw in two parts since derivation acts individual on parts of a sum\n",
    "        \n",
    "        #find initial dw (dSSE/dw) in same way as previous task\n",
    "        y_diff = y.T - y_pred;\n",
    "        dw = -2 * (1/n) * np.dot(y_diff, X)\n",
    "        \n",
    "        #add regularisation term = lambda * w = d/dw(lamba/2*(sum of weights squared))\n",
    "        dw += lmbda * w\n",
    "\n",
    "        #find db in same way as previous task\n",
    "        db= -2 * (1/n) * np.sum(y_diff)\n",
    "                \n",
    "        objectiveHistory.append(np.sum(y_diff*y_diff) + lmbda * 0.5 * np.sum(w[0]*w[0]))\n",
    "            \n",
    "        # Update weights and bias\n",
    "        w -= alpha * dw\n",
    "        b -= alpha * db\n",
    "                \n",
    "    #get final objective function value\n",
    "    y_pred = np.dot(w, X.T) + b\n",
    "    y_diff = y.T - y_pred;\n",
    "    objectiveHistory.append(np.sum(y_diff*y_diff) + lmbda * 0.5 * np.sum(w[0]*w[0]))\n",
    "    \n",
    "    return w, b, objectiveHistory"
   ]
  },
  {
   "cell_type": "markdown",
   "metadata": {
    "id": "y6N5myOxryvP"
   },
   "source": [
    "**Task 2.3** \tFit a model using linear_regression_GD_L2 and data from Task1.3. Find the mean squared error and spearman correlation between model_estimates and true targets in y_test. Test with different values of lambda. What is the minimum MSE you can achieve, for what value of lambda, and how does it compare with results for unregularized regression from task 1.3?"
   ]
  },
  {
   "cell_type": "code",
   "execution_count": 16,
   "metadata": {
    "id": "t9rqmOLAsOi_"
   },
   "outputs": [
    {
     "name": "stdout",
     "output_type": "stream",
     "text": [
      "Weights: [[ 2.16449358e-02  4.57873586e-02 -2.00975134e-02 -1.23561158e-02\n",
      "   7.14833368e-02  4.30237446e-02  1.18296201e+01  3.93986852e-03\n",
      "   4.49758137e-02  3.98084313e-02  1.10495984e-02  3.33575436e-02\n",
      "   1.07944502e-02  3.29963479e-02  5.32572713e-02 -1.17818057e+01\n",
      "  -1.65259979e+00  1.41442828e-02  6.10920024e+00 -9.16631513e-03\n",
      "   3.29467369e-02  9.15219029e+00 -3.06696455e+00 -1.26828371e+01\n",
      "   2.24754685e-02  4.99613910e-02 -6.64826452e+00 -1.07274274e+00\n",
      "   2.18321049e-02  3.24246137e-02  1.42204449e-02  4.55824455e-02\n",
      "   5.94566424e-02  2.43390259e-03  1.02442762e+00 -1.44513103e+00\n",
      "  -1.93927559e+00 -7.95530867e-05  6.00194602e-02  1.08255366e-02\n",
      "  -2.85459321e+00  7.30339690e+00  3.34134965e-02  8.77510200e-03\n",
      "   9.61606267e+00  1.21573916e-02  1.13649903e-02  4.64089426e-02\n",
      "  -2.56513204e-03  5.09305365e-02]]\n",
      "Maximum Weight: 11.829620067088998\n",
      "Bias: 0.07613440843403002\n",
      "MSE: 1.2707061250564042\n",
      "Spearman Coeff: 0.9998897728787947\n"
     ]
    },
    {
     "data": {
      "image/png": "[encoded data removed]",
      "text/plain": [
       "<Figure size 400x300 with 1 Axes>"
      ]
     },
     "metadata": {},
     "output_type": "display_data"
    }
   ],
   "source": [
    "#any bigger alpha => code diverges\n",
    "w,b,objectiveHistory = linear_regression_GD_L2(X_train, y_train, 0.0009, 0)\n",
    "    \n",
    "testMSE, testSpearman = getTestCoeffs(X_test, y_test, w, b)\n",
    "print(\"Weights:\", w)\n",
    "print(\"Maximum Weight:\", np.max(w))\n",
    "print(\"Bias:\", b)\n",
    "print(\"MSE:\", testMSE)\n",
    "print(\"Spearman Coeff:\", testSpearman)\n",
    "\n",
    "plotObjectiveHistory(objectiveHistory)"
   ]
  },
  {
   "cell_type": "markdown",
   "metadata": {},
   "source": [
    "Using 1000 iterations:\\\n",
    "\\\n",
    "Lambda = 0, Largest Weight = 11.83, Mean Squared Error (MSE) = 1.271\\\n",
    "Lambda = 0.1, Largest Weight = 11.75, MSE = 1.576\\\n",
    "Lambda = 1.0, Largest Weight = 11.08, MSE = 24.08\\\n",
    "Lambda = 5.0, Largest Weight = 8.890, MSE = 349.7\\\n",
    "Lambda = 10.0, Largest Weight = 7.181, MSE = 886.0\\\n",
    "\\\n",
    "Regularisation term works at the expense of the average error (MSE)."
   ]
  },
  {
   "cell_type": "markdown",
   "metadata": {
    "id": "h0DXGp5vtp78"
   },
   "source": [
    "# Task-3: L1-Regularised Linear Regression\n",
    "Task 3.1 Write the objective function for L1 regularized linear regression."
   ]
  },
  {
   "cell_type": "markdown",
   "metadata": {
    "id": "sf3WAf22uaw0"
   },
   "source": [
    "The L1 regularisation term mean taking the sum of the absolute values of the weights into account in the objective function. Therefore the objection function is:\n",
    "\n",
    "$=\\sum_{i=1}^{n} (w^T x_i + b - y_i)^2 + \\lambda\\sum_{i=0}^{n}|w_i|$"
   ]
  },
  {
   "cell_type": "markdown",
   "metadata": {
    "id": "kS67NyLjud3y"
   },
   "source": [
    "**Task 3.2** Based on your formulation, write a python method “linear_regression_SD_L1” that takes as input an nxd matrix **X** containing the feature vectors for all observations, an n-dimensional vector **y** containing  all the targets, L1 regularization weight lambda and learning rate. The method should implement subgradient descent optimization to find **w** and b that minimize the regularized objective function. Please note that L1 norm is that it is not differentiable at zero. So, instead of gradient descent, you will need to use subgradient descent for optimization."
   ]
  },
  {
   "cell_type": "code",
   "execution_count": 5,
   "metadata": {
    "id": "IjzBmnTkvJW9"
   },
   "outputs": [],
   "source": [
    "def linear_regression_SD_L1(X, y, alpha, lmbda):\n",
    "    \n",
    "    n, d = X.shape\n",
    "    \n",
    "    #start from weights and biases initialised to 0\n",
    "    w = np.zeros((1, d))\n",
    "    b = 0\n",
    "    \n",
    "    objectiveHistory = [] #recording of objective function, stated in markdown above\n",
    "    \n",
    "    for i in range(1000):\n",
    "        #y_pred = w^Tx + b\n",
    "        y_pred = np.dot(w, X.T) + b\n",
    "                \n",
    "        #find initial dw (dSSE/dw) in same way as previous task\n",
    "        y_diff = y.T - y_pred;\n",
    "        dw = -2 * (1/n) * np.dot(y_diff, X) \n",
    "        \n",
    "        #use lambda * sign(w) as subgradient function as actual derivative diverges at 0\n",
    "        dw += (lmbda * np.sign(w))\n",
    "\n",
    "        #find db in same way as task 1\n",
    "        db= -2 * (1/n) * np.sum(y_diff)\n",
    "              \n",
    "        objectiveHistory.append(np.sum(y_diff*y_diff) + lmbda * np.sum(np.abs(w[0])))\n",
    "            \n",
    "        # Update weights and bias\n",
    "        w -= alpha * dw\n",
    "        b -= alpha * db\n",
    "                \n",
    "    #get final objective function value\n",
    "    y_pred = np.dot(w, X.T) + b\n",
    "    y_diff = y.T - y_pred;\n",
    "    objectiveHistory.append(np.sum(y_diff*y_diff) + lmbda * np.sum(np.abs(w[0])))\n",
    "    \n",
    "    return w, b, objectiveHistory"
   ]
  },
  {
   "cell_type": "markdown",
   "metadata": {
    "id": "G7SKgXxSvNw6"
   },
   "source": [
    "**Task 3.3**\tUse “linear_regression_SD_L1” to fit an L1 regularized regression model on the data provided in Task 1.3. Find the mean squared error and spearman correlation between model estimates for X_test and true targets in y_test. Test with different values of lambda. What is the minimum MSE you can achieve, for what value of lambda and how does it compare with results for unregularized and L2 regularized regression. How much feature reduction were you able to achieve while keeping the MSE minimum?"
   ]
  },
  {
   "cell_type": "code",
   "execution_count": 6,
   "metadata": {
    "id": "Z77Cg22Fvdax"
   },
   "outputs": [
    {
     "name": "stdout",
     "output_type": "stream",
     "text": [
      "Weights: [[-2.92133691e-01 -2.20025906e-01 -2.70145084e-01 -2.42170270e-01\n",
      "  -7.30399499e-02 -4.80945937e-02  8.89041746e+00 -1.81007958e-01\n",
      "  -2.44431477e-01 -4.99121485e-02 -2.41874576e-01 -1.38857757e-02\n",
      "  -4.10788859e-02 -2.95288521e-01 -4.03488179e-02 -1.00482492e+01\n",
      "  -2.31146981e-01 -2.42787814e-01  2.79598370e+00 -8.82291266e-02\n",
      "  -2.20166245e-01  7.32611604e+00 -1.03771383e+00 -1.16659653e+01\n",
      "  -2.73144972e-01  7.08760013e-03 -3.90966122e+00 -2.81781032e-01\n",
      "  -2.33118326e-01 -9.86819333e-02 -2.06916138e-02 -2.70256366e-01\n",
      "  -2.49945833e-01 -2.34653783e-01  3.94641320e-03 -2.91933979e-01\n",
      "  -2.48825547e-01 -1.12211650e-01 -2.82448884e-01 -3.17386454e-02\n",
      "  -5.00412751e-01  4.33499556e+00 -2.51776641e-01 -2.19432788e-01\n",
      "   7.16902712e+00 -2.55788700e-01 -1.39886108e-01 -2.43477950e-01\n",
      "  -2.49752155e-01  6.44889111e-03]]\n",
      "Maximum Weight: 8.890417462965718\n",
      "Bias: -0.3956200729710277\n",
      "MSE: 1456.0791524634778\n",
      "Spearman Coeff: 0.9790959598204364\n"
     ]
    },
    {
     "data": {
      "image/png": "[encoded data removed]",
      "text/plain": [
       "<Figure size 400x300 with 1 Axes>"
      ]
     },
     "metadata": {},
     "output_type": "display_data"
    }
   ],
   "source": [
    "#any bigger alpha => code diverges\n",
    "w,b,objectiveHistory = linear_regression_SD_L1(X_train, y_train, 0.0009, 39.92)\n",
    "\n",
    "testMSE, testSpearman = getTestCoeffs(X_test, y_test, w, b)\n",
    "print(\"Weights:\", w)\n",
    "print(\"Maximum Weight:\", np.max(w))\n",
    "print(\"Bias:\", b)\n",
    "print(\"MSE:\", testMSE)\n",
    "print(\"Spearman Coeff:\", testSpearman)\n",
    "\n",
    "plotObjectiveHistory(objectiveHistory)"
   ]
  },
  {
   "cell_type": "markdown",
   "metadata": {},
   "source": [
    "Using 1000 iterations:\\\n",
    "\\\n",
    "Lambda = 0, Largest Weight = 11.83, Mean Squared Error (MSE) = 1.271\\\n",
    "Lambda = 1.0, largest weight = 11.80, MSE = 1.883\\\n",
    "Lambda = 5.0, largest weight = 11.48, MSE = 23.53\\\n",
    "Lambda = 10.0, largest weight = 11.09, MSE = 91.20\\\n",
    "Lambda = 39.92, largest weight = 8.890, MSE = 1456\\\n",
    "\\\n",
    "Compared to the L2 norm test results it took a larger lambda to similarly reduce the largest weight. Like the previous task, a small reduction in the largest weight caused a large increase in the MSE. A lambda value of 39.92 was selected to match the largest weight to the L2 norm test with lambda = 5.0. There was a bigger increase in MSE than in the L2 norm test. I would assume this is because the L1 norm isn't as selective at punishing extreme weight values as the L2 norm leading to more alterations being done to the smaller weights therefore resulting in a larger MSE."
   ]
  },
  {
   "cell_type": "markdown",
   "metadata": {
    "id": "f4_lpm52vlXB"
   },
   "source": [
    "# Task-4: L2-Regularised Ranking\n",
    "**Task 4.1** Write the objective function for L2 regularised ranking as explained in the assignment description pdf."
   ]
  },
  {
   "cell_type": "markdown",
   "metadata": {
    "id": "419u5mpawjcw"
   },
   "source": [
    "The assignment gives a function $l(y_i, y_j, \\hat{y_i}, \\hat{y_j}) = (y_i - y_j)max\\{0,1-(\\hat{y_i}-\\hat{y_j})\\}$ that returns a positive value if a pair of points are ranked in the wrong order (only applicable for when $y_i > y_j$). To construct an objective function we will have to run function this on every applicable pair of points and predicted points and sum the result.\n",
    "\n",
    "$=\\sum_{i,j \\in [1,n], i < j, y_i > y_j}^{n} l(y_i, y_j, \\hat{y_i}, \\hat{y_j}) + \\frac{\\lambda}{2}\\sum_{i=0}^{n}w_i^2$\n",
    "\n",
    "where\n",
    "\n",
    "$l(y_i, y_j, \\hat{y_i}, \\hat{y_j}) = (y_i - y_j)max\\{0,1-(\\hat{y_i}-\\hat{y_j})\\}$\n",
    "\n",
    "note there is a L2-regularisation term as the assignment asks for a L2 regularised ranking."
   ]
  },
  {
   "cell_type": "markdown",
   "metadata": {
    "id": "sjqPYqJYwnuH"
   },
   "source": [
    "**Task 4.2** \tWrite a python method called “linear_ranking_SD” that takes as input an nxd matrix **X** containing the feature vectors for all observations, an n-dimensional vector **y** containing  all the targets, regularization weight lambda and learning rate. The method should implement subgradient descent optimization to find **w** and b that minimize the regularized objective function from 4.1."
   ]
  },
  {
   "cell_type": "code",
   "execution_count": 21,
   "metadata": {
    "id": "3_1ZwG9iz5Uw"
   },
   "outputs": [],
   "source": [
    "#separate objective function as it is complex\n",
    "def objectiveFunc(y, y_pred, w, lmbda):\n",
    "    #create I and J such that (I,J) is every coordinate of a len(y) x len(y) matrix\n",
    "    I = np.repeat(np.arange(0, len(y)), len(y))\n",
    "    J = np.tile(np.arange(0, len(y)), len(y))\n",
    "\n",
    "    mask = (y[I] > y[J]) #y_i > y_j\n",
    "    #sum of l(.,.,.,.)\n",
    "    value = np.sum(mask * (y[I] - y[J]) * (1 - (y_pred[0, I] - y_pred[0, J])) * ((1 - (y_pred[0, I] - y_pred[0, J])) > 0))\n",
    "    \n",
    "    #L2 regularised term\n",
    "    value += lmbda * 0.5 * np.sum(w[0] * w[0])\n",
    "    \n",
    "    return value\n",
    "\n",
    "def linear_regression_SD(X, y, alpha, lmbda):\n",
    "    \n",
    "    n, d = X.shape\n",
    "    \n",
    "    #start from all initialised to 0\n",
    "    w = np.zeros((1, d))\n",
    "    b = 0\n",
    "    \n",
    "    objectiveHistory = [] #recording of objective function stated in markdown above\n",
    "    \n",
    "    for i in range(50):\n",
    "        #y_pred = w^Tx + b\n",
    "        y_pred = np.dot(w, X.T) + b\n",
    "\n",
    "        objectiveHistory.append(objectiveFunc(y, y_pred, w, lmbda))\n",
    "\n",
    "        #NON VECTORISED VERSION, TOO SLOW -------------------------\n",
    "        #differentiate wrt w_k\n",
    "        #dw = np.zeros(w.shape)\n",
    "        #for k in range(d):\n",
    "            #for J in range(n):\n",
    "                #for I in range(J): #all pairs of I and J\n",
    "                    ##dw[0][k] += -(y[I] - y[J]) * ((1-(y_pred[0][I] - y_pred[0][J])) > 0) * X[I][k]\n",
    "                    #dw[0][k] += (y[I] - y[J]) * ((1-(y_pred[0][I] - y_pred[0][J])) > 0) * X[J][k]\n",
    "        #-----------------------------------------------------------\n",
    "                    \n",
    "        #vectorised computation of dw\n",
    "        #create I and J such that (I,J) is every coordinate of a len(y) x len(y) matrix\n",
    "        I = np.repeat(np.arange(0, len(y)), len(y))\n",
    "        J = np.tile(np.arange(0, len(y)), len(y))\n",
    "        \n",
    "        #compute the operation for every pair of indices\n",
    "        dw = np.zeros((1, d))\n",
    "        mask = (y[I] > y[J]).reshape(-1,1) #only use pairs where y_i > y_j\n",
    "        #derivate has two terms as y_pred depends on w and there are two instances of y_pred in objective function\n",
    "        dw += np.sum(mask * (y[J] - y[I]).reshape(-1,1) * ((1 - (y_pred[0, I] - y_pred[0, J])) > 0).reshape(-1,1) * X[I], axis = 0)\n",
    "        dw += np.sum(mask * (y[I] - y[J]).reshape(-1,1) * ((1 - (y_pred[0, I] - y_pred[0, J])) > 0).reshape(-1,1) * X[J], axis = 0)\n",
    "        \n",
    "        #L2 regularization term\n",
    "        dw += lmbda * w\n",
    "\n",
    "        #change in bias irrelevant to objective function after doing the maths\n",
    "        db= 0\n",
    "        \n",
    "        # Update weights and bias\n",
    "        w -= alpha * dw\n",
    "        b -= alpha * db\n",
    "                        \n",
    "    #get final objective function value\n",
    "    y_pred = np.dot(w, X.T) + b\n",
    "    objectiveHistory.append(objectiveFunc(y, y_pred, w, lmbda))\n",
    "    \n",
    "    return w, b, objectiveHistory"
   ]
  },
  {
   "cell_type": "markdown",
   "metadata": {
    "id": "-A70Z4uQz8uC"
   },
   "source": [
    "**Task 4.3** Use “linear_ranking_SD” to fit the ranking model on the data provided in Task 1.3. Find the mean squared error and spearman correlation between model estimates for X_test and true targets in y_test. Test with different values of lambda. What is the maximum Spearman’s correlation you can achieve, for what value of lambda and how does it compare with results for unregularized, L1 and L2 regularized regression models."
   ]
  },
  {
   "cell_type": "code",
   "execution_count": 31,
   "metadata": {
    "id": "2Ltqtw1ilrG1"
   },
   "outputs": [
    {
     "name": "stdout",
     "output_type": "stream",
     "text": [
      "Weights: [[-3.32910418e-01  1.19172409e-01  2.14834576e-01 -2.93872473e-01\n",
      "   4.54709869e-01  4.35913366e-01  1.35561646e+01  1.41443121e-02\n",
      "   1.22067760e-01  4.05238951e-01 -5.31719087e-01  4.27407916e-01\n",
      "  -1.51022616e-01 -9.37797674e-02  4.06714929e-01 -1.42363432e+01\n",
      "  -1.99450272e+00 -2.91217655e-01  6.75422960e+00  5.46636393e-02\n",
      "  -3.85422275e-02  1.15249667e+01 -3.63453757e+00 -1.57154168e+01\n",
      "  -4.89607723e-01  4.22406943e-01 -7.81710450e+00 -2.03787313e+00\n",
      "  -2.34439606e-01  3.49894454e-01  2.41552400e-01 -1.63549179e-01\n",
      "  -1.52781843e-01 -3.85550742e-01  8.93424120e-01 -1.12132560e+00\n",
      "  -2.49334312e+00  3.19816792e-01 -3.56194304e-01  8.38664186e-01\n",
      "  -3.12078998e+00  8.07041698e+00 -2.36194230e-01 -7.13626203e-02\n",
      "   1.17176811e+01 -2.42645373e-01  2.94362535e-01 -5.63817865e-01\n",
      "  -2.09791350e-01  4.20747221e-01]]\n",
      "Maximum Weight: 13.556164588116179\n",
      "Bias: 0.0\n",
      "MSE: 366.6536444928705\n",
      "Spearman Coeff: 0.9960922707675897\n"
     ]
    },
    {
     "data": {
      "image/png": "[encoded data removed]",
      "text/plain": [
       "<Figure size 400x300 with 1 Axes>"
      ]
     },
     "metadata": {},
     "output_type": "display_data"
    }
   ],
   "source": [
    "#any bigger alpha => code diverges\n",
    "w,b,objectiveHistory = linear_regression_SD(X_train, y_train, 0.000001, 1000)\n",
    "\n",
    "testMSE, testSpearman = getTestCoeffs(X_test, y_test, w, b)\n",
    "print(\"Weights:\", w)\n",
    "print(\"Maximum Weight:\", np.max(w))\n",
    "print(\"Bias:\", b)\n",
    "print(\"MSE:\", testMSE)\n",
    "print(\"Spearman Coeff:\", testSpearman)\n",
    "\n",
    "plotObjectiveHistory(objectiveHistory)"
   ]
  },
  {
   "cell_type": "markdown",
   "metadata": {},
   "source": [
    "Below are the results varying lambda after 50 iterations. Had to do 50 instead of 1000 because this algorithm is much slower to run.\\\n",
    "\\\n",
    "Lambda = 0, Spearman Coeff. = 0.99597, largest Weight = 14.22, MSE = 544.6\\\n",
    "Lambda = 100, Spearman Coeff. = 0.99600, largest Weight = 14.15, MSE = 524.2\\\n",
    "Lambda = 1000, Spearman Coeff. = 0.99609, largest Weight = 13.56, MSE = 366.7\\\n",
    "Lambda = 10000, Spearman Coeff. = 0.99711, largest Weight = 8.774, MSE = 443.8\\\n",
    "Lambda = 100000, Spearman Coeff. = 0.99983, largest Weight = 1.028, MSE = 5438\\\n",
    "Higher lambda diverged.\\\n",
    "\\\n",
    "Surprisingly, increasing lambda increased the final Spearman coefficient despite the objective function with lambda = 0 optimising only for the correct rank of all the points. I believe this is because you can retain the correct ordering of prediction points whilst decreasing all the weights by a constant factor. The higher lambda pushes for the weights to become very small and since $dw$ does not depend on $\\hat{y_i}$ the changes in weight values are relatively bigger. This means that higher lambda effectively increases the learning rate until it diverges which is why the highest non-diverging lambda gives the best Spearman coefficient. "
   ]
  },
  {
   "cell_type": "code",
   "execution_count": null,
   "metadata": {},
   "outputs": [],
   "source": []
  }
 ],
 "metadata": {
  "colab": {
   "provenance": []
  },
  "kernelspec": {
   "display_name": "Python 3 (ipykernel)",
   "language": "python",
   "name": "python3"
  },
  "language_info": {
   "codemirror_mode": {
    "name": "ipython",
    "version": 3
   },
   "file_extension": ".py",
   "mimetype": "text/x-python",
   "name": "python",
   "nbconvert_exporter": "python",
   "pygments_lexer": "ipython3",
   "version": "3.10.11"
  }
 },
 "nbformat": 4,
 "nbformat_minor": 1
}
